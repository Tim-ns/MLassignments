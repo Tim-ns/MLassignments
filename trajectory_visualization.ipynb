{
 "cells": [
  {
   "cell_type": "code",
   "execution_count": 165,
   "metadata": {},
   "outputs": [],
   "source": [
    "import pandas as pd\n",
    "import numpy as np\n",
    "import matplotlib.pyplot as plt\n",
    "import torch"
   ]
  },
  {
   "cell_type": "code",
   "execution_count": 166,
   "metadata": {},
   "outputs": [],
   "source": [
    "# read raw data\n",
    "x_test = pd.read_csv(\"X_test.csv\")\n",
    "x_train = pd.read_csv(\"X_train.csv\")\n",
    "sample_submission = pd.read_csv(\"sample_submission.csv\")"
   ]
  },
  {
   "cell_type": "code",
   "execution_count": 167,
   "metadata": {},
   "outputs": [
    {
     "data": {
      "text/plain": [
       "(1285000, 14)"
      ]
     },
     "execution_count": 167,
     "metadata": {},
     "output_type": "execute_result"
    }
   ],
   "source": [
    "#creat dataframe\n",
    "x_train = pd.DataFrame(x_train)\n",
    "x_train_notnull = x_train.notnull()\n",
    "x_train_notnull.shape"
   ]
  },
  {
   "cell_type": "code",
   "execution_count": 168,
   "metadata": {},
   "outputs": [],
   "source": [
    "# Convert the DataFrame to a torch tensor\n",
    "tensor_x_train = torch.tensor(x_train.values, dtype=torch.float32)\n",
    "#print(tensor_x_train)\n",
    "\n",
    "#x_train.describe()"
   ]
  },
  {
   "cell_type": "code",
   "execution_count": 169,
   "metadata": {},
   "outputs": [
    {
     "name": "stdout",
     "output_type": "stream",
     "text": [
      "Empty DataFrame\n",
      "Columns: [t, x_1, y_1, v_x_1, v_y_1, x_2, y_2, v_x_2, v_y_2, x_3, y_3, v_x_3, v_y_3, Id]\n",
      "Index: []\n"
     ]
    }
   ],
   "source": [
    "# check if t>10 or <0\n",
    "x_train_unvaled = x_train[x_train['t'] > 10 ]\n",
    "x_train_unvaled = x_train[x_train['t'] < 0 ]\n",
    "\n",
    "print(x_train_unvaled)"
   ]
  },
  {
   "cell_type": "code",
   "execution_count": 175,
   "metadata": {},
   "outputs": [
    {
     "name": "stdout",
     "output_type": "stream",
     "text": [
      "       t  x_1  y_1  v_x_1  v_y_1       x_2       y_2  v_x_2  v_y_2       x_3  \\\n",
      "514  0.0  1.0  0.0    0.0    0.0 -0.450789  0.177112    0.0    0.0 -0.549211   \n",
      "519  0.0  0.0  0.0    0.0    0.0  0.000000  0.000000    0.0    0.0  0.000000   \n",
      "520  0.0  0.0  0.0    0.0    0.0  0.000000  0.000000    0.0    0.0  0.000000   \n",
      "521  0.0  0.0  0.0    0.0    0.0  0.000000  0.000000    0.0    0.0  0.000000   \n",
      "522  0.0  0.0  0.0    0.0    0.0  0.000000  0.000000    0.0    0.0  0.000000   \n",
      "..   ...  ...  ...    ...    ...       ...       ...    ...    ...       ...   \n",
      "766  0.0  0.0  0.0    0.0    0.0  0.000000  0.000000    0.0    0.0  0.000000   \n",
      "767  0.0  0.0  0.0    0.0    0.0  0.000000  0.000000    0.0    0.0  0.000000   \n",
      "768  0.0  0.0  0.0    0.0    0.0  0.000000  0.000000    0.0    0.0  0.000000   \n",
      "769  0.0  0.0  0.0    0.0    0.0  0.000000  0.000000    0.0    0.0  0.000000   \n",
      "770  0.0  0.0  0.0    0.0    0.0  0.000000  0.000000    0.0    0.0  0.000000   \n",
      "\n",
      "          y_3  v_x_3  v_y_3   Id  \n",
      "514 -0.177112    0.0    0.0  514  \n",
      "519  0.000000    0.0    0.0  519  \n",
      "520  0.000000    0.0    0.0  520  \n",
      "521  0.000000    0.0    0.0  521  \n",
      "522  0.000000    0.0    0.0  522  \n",
      "..        ...    ...    ...  ...  \n",
      "766  0.000000    0.0    0.0  766  \n",
      "767  0.000000    0.0    0.0  767  \n",
      "768  0.000000    0.0    0.0  768  \n",
      "769  0.000000    0.0    0.0  769  \n",
      "770  0.000000    0.0    0.0  770  \n",
      "\n",
      "[253 rows x 14 columns]\n"
     ]
    },
    {
     "data": {
      "image/png": "[encoded data removed]",
      "text/plain": [
       "<Figure size 640x480 with 1 Axes>"
      ]
     },
     "metadata": {},
     "output_type": "display_data"
    }
   ],
   "source": [
    "# trajectory visualization\n",
    "idx = np.hstack((0,x_train[x_train.t == 10].index.values+1))\n",
    "#k = np.random.randint(idx.shape[0])\n",
    "k = 2\n",
    "pltidx = range(idx[k], 257+idx[k])\n",
    "pltsquare = idx[k]\n",
    "plt.plot(x_train.x_1[pltidx], x_train.y_1[pltidx])\n",
    "plt.plot(x_train.x_2[pltidx], x_train.y_2[pltidx])\n",
    "plt.plot(x_train.x_3[pltidx], x_train.y_3[pltidx])\n",
    "\n",
    "plt.plot(x_train.x_1[pltsquare], x_train.y_1[pltsquare])\n",
    "plt.plot(x_train.x_2[pltsquare], x_train.y_2[pltsquare])\n",
    "plt.plot(x_train.x_3[pltsquare], x_train.y_3[pltsquare])\n",
    "\n",
    "filtered_data = x_train[(x_train['Id'] >= 514) & (x_train['Id'] <= 770)]\n",
    "# Print the filtered data\n",
    "#print(filtered_data)\n",
    "\n",
    "print(filtered_data[filtered_data['t']==0])\n",
    "\n"
   ]
  },
  {
   "cell_type": "code",
   "execution_count": 94,
   "metadata": {},
   "outputs": [],
   "source": [
    "import matplotlib.pyplot as plt\n",
    "\n",
    "def plot_y_yhat(y_test,y_pred, plot_title = \"plot\"):\n",
    "    labels = ['x_1','y_1','x_2','y_2','x_3','y_3']\n",
    "    MAX = 500\n",
    "    if len(y_test) > MAX:\n",
    "        idx = np.random.choice(len(y_test),MAX, replace=False)\n",
    "    else:\n",
    "        idx = np.arange(len(y_test))\n",
    "    plt.figure(figsize=(10,10))\n",
    "    for i in range(6):\n",
    "        x0 = np.min(y_test[idx,i])\n",
    "        x1 = np.max(y_test[idx,i])\n",
    "        plt.subplot(3,2,i+1)\n",
    "        plt.scatter(y_test[idx,i],y_pred[idx,i])\n",
    "        plt.xlabel('True '+labels[i])\n",
    "        plt.ylabel('Predicted '+labels[i])\n",
    "        plt.plot([x0,x1],[x0,x1],color='red')\n",
    "        plt.axis('square')\n",
    "    plt.savefig(plot_title+'.pdf')\n",
    "    plt.show()\n"
   ]
  },
  {
   "cell_type": "code",
   "execution_count": 55,
   "metadata": {},
   "outputs": [],
   "source": [
    "# plot_y_yhat(x_train, x_train, plot_title = \"plot\")"
   ]
  },
  {
   "cell_type": "code",
   "execution_count": null,
   "metadata": {},
   "outputs": [],
   "source": []
  }
 ],
 "metadata": {
  "kernelspec": {
   "display_name": "base",
   "language": "python",
   "name": "python3"
  },
  "language_info": {
   "codemirror_mode": {
    "name": "ipython",
    "version": 3
   },
   "file_extension": ".py",
   "mimetype": "text/x-python",
   "name": "python",
   "nbconvert_exporter": "python",
   "pygments_lexer": "ipython3",
   "version": "3.11.5"
  }
 },
 "nbformat": 4,
 "nbformat_minor": 2
}
